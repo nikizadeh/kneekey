from numpy.random import randn
data = [1.8 + .1414*randn() for i in range(1000]
print(data)
